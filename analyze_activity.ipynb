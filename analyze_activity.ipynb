{
 "cells": [
  {
   "cell_type": "code",
   "execution_count": null,
   "metadata": {},
   "outputs": [],
   "source": [
    "import polars as pl\n",
    "from utils import db_config\n",
    "import seaborn as sns\n",
    "import matplotlib.pyplot as plt\n",
    "from typing import Iterable"
   ]
  },
  {
   "cell_type": "code",
   "execution_count": null,
   "metadata": {},
   "outputs": [],
   "source": [
    "conn_config = db_config.get_postgres_connection_string('postgres_fb_05')\n",
    "activity_col = 'activity'"
   ]
  },
  {
   "cell_type": "code",
   "execution_count": null,
   "metadata": {},
   "outputs": [],
   "source": [
    "def aggregate_data(\n",
    "    df: pl.DataFrame,\n",
    "    groupby_cols: Iterable[str],\n",
    "    agg: str,\n",
    "    alias: str = activity_col\n",
    ") -> pl.DataFrame:\n",
    "    df = df.group_by(*groupby_cols).agg(pl.count(agg).alias(alias))\n",
    "    return df.drop_nulls()"
   ]
  },
  {
   "cell_type": "code",
   "execution_count": null,
   "metadata": {},
   "outputs": [],
   "source": [
    "data = pl.read_database_uri(\n",
    "    query='SELECT * FROM activity_datapoints',\n",
    "    uri=conn_config,\n",
    "    engine='connectorx'\n",
    ")"
   ]
  },
  {
   "cell_type": "code",
   "execution_count": null,
   "metadata": {},
   "outputs": [],
   "source": [
    "split_timestamp = data.select(\n",
    "    pl.col('timestamp').dt.year().alias('years'),\n",
    "    pl.col('timestamp').dt.weekday().cast(pl.Int16).alias('days'),\n",
    "    pl.col('timestamp').dt.hour().cast(pl.Int16).alias('hours'),\n",
    "    pl.col('src')\n",
    ")\n",
    "years = split_timestamp.select(\n",
    "    'years',\n",
    "    'src'\n",
    ")\n",
    "\n",
    "weekly = split_timestamp.select(\n",
    "    'days',\n",
    "    'src'\n",
    ")\n",
    "\n",
    "hourly = split_timestamp.select(\n",
    "    'hours',\n",
    "    'src'\n",
    ")"
   ]
  },
  {
   "cell_type": "code",
   "execution_count": null,
   "metadata": {},
   "outputs": [],
   "source": [
    "years_agg = aggregate_data(\n",
    "    df=years,\n",
    "    groupby_cols=['years', 'src'],\n",
    "    agg='years'\n",
    ").sort('years')\n",
    "\n",
    "weekly_agg = aggregate_data(\n",
    "    df=weekly,\n",
    "    groupby_cols=['days', 'src'],\n",
    "    agg='days'\n",
    ").sort('days')\n",
    "\n",
    "hourly_agg = aggregate_data(\n",
    "    df=hourly,\n",
    "    groupby_cols=['hours', 'src'],\n",
    "    agg='hours'\n",
    ").sort('hours')\n",
    "\n",
    "hours_per_day = split_timestamp.select(\n",
    "    'days',\n",
    "    'hours',\n",
    "    'src'\n",
    ").group_by(\n",
    "    'days',\n",
    "    'hours'\n",
    ").agg(\n",
    "    pl.count('hours').alias('hourly_activity')\n",
    ").sort('hours').drop_nulls()"
   ]
  },
  {
   "cell_type": "code",
   "execution_count": null,
   "metadata": {},
   "outputs": [],
   "source": [
    "sns.lineplot(\n",
    "    data=years_agg,\n",
    "    x='years',\n",
    "    y=activity_col,\n",
    "    errorbar=None\n",
    ")"
   ]
  },
  {
   "cell_type": "code",
   "execution_count": null,
   "metadata": {},
   "outputs": [],
   "source": [
    "years_agg_less_300 = years_agg.filter(\n",
    "    ~pl.col('src').is_in(['reactions', 'ext_activity', 'account_activity'])\n",
    ")\n",
    "\n",
    "sns.lineplot(\n",
    "    data=years_agg_less_300,\n",
    "    x='years',\n",
    "    y=activity_col,\n",
    "    hue='src',\n",
    "    legend='brief'\n",
    ")\n",
    "plt.legend(bbox_to_anchor=(1.02, 1), loc='upper left', borderaxespad=0)"
   ]
  },
  {
   "cell_type": "code",
   "execution_count": null,
   "metadata": {},
   "outputs": [],
   "source": [
    "years_agg_grtr_300 = years_agg.filter(\n",
    "    pl.col('src').is_in(['reactions', 'ext_activity', 'account_activity'])\n",
    ")\n",
    "\n",
    "sns.lineplot(\n",
    "    data=years_agg_grtr_300,\n",
    "    x='years',\n",
    "    y='activity',\n",
    "    hue='src',\n",
    "    legend='brief'\n",
    ")\n",
    "plt.legend(bbox_to_anchor=(1.02, 1), loc='upper left', borderaxespad=0)"
   ]
  },
  {
   "cell_type": "code",
   "execution_count": null,
   "metadata": {},
   "outputs": [],
   "source": [
    "g = sns.FacetGrid(data=hours_per_day, col='days', col_wrap=7, height=4)\n",
    "g.map(sns.barplot, 'hours', 'hourly_activity', order=[i for i in range(0, 24)])"
   ]
  }
 ],
 "metadata": {
  "kernelspec": {
   "display_name": "data_loader",
   "language": "python",
   "name": "python3"
  },
  "language_info": {
   "codemirror_mode": {
    "name": "ipython",
    "version": 3
   },
   "file_extension": ".py",
   "mimetype": "text/x-python",
   "name": "python",
   "nbconvert_exporter": "python",
   "pygments_lexer": "ipython3",
   "version": "3.9.13"
  }
 },
 "nbformat": 4,
 "nbformat_minor": 2
}
